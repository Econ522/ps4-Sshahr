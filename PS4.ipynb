{
 "cells": [
  {
   "cell_type": "markdown",
   "id": "9803c92c-fec5-42b0-95dc-04f4147b16c2",
   "metadata": {},
   "source": [
    "# Problem Set 4"
   ]
  },
  {
   "cell_type": "markdown",
   "id": "aff25f34-87db-4e82-991f-285541111b56",
   "metadata": {},
   "source": [
    "## Question 2"
   ]
  },
  {
   "cell_type": "markdown",
   "id": "27aa8c39-0c90-4db3-ab56-62c754be4930",
   "metadata": {},
   "source": [
    "In this exercise, we numerically study the behaviors of the wild and the pairs bootstrap by considering the following model:\n",
    "\\begin{align}\\label{Q4}\\tag{1}\n",
    "Y_i=Z_{1i} + Z_{2i} + Z_{3i} + \\varrho_0 Z_{1i} Z_{2i} + (1+\\lambda_0 Z_{1i})\\epsilon_i~,\n",
    "\\end{align}\n",
    "for $i=1,\\ldots, n$. The sample $\\{Y_i,Z_{1i},Z_{2i},Z_{3i}\\}_{i=1}^n$ is generated as follows."
   ]
  },
  {
   "cell_type": "markdown",
   "id": "3208f85b-cec8-4490-96dc-baea914e0c34",
   "metadata": {},
   "source": [
    "(1) Generate $V_i,Z_{2i}$ and $Z_{3i}$ from the standard normal distribution with equal correlation $0.2$, and then set\n",
    "    \\begin{align}\n",
    "    Z_{1i} = \\frac{\\exp(V_i)-E[\\exp(V_i)]}{\\sqrt{\\mathrm{Var}(\\exp(V_i))}}~,\n",
    "    \\end{align}\n",
    "    where $E[\\exp(V_i)]=\\exp(0.5)$ and $\\sqrt{\\mathrm{Var}(\\exp(V_i))}=2.16$ (approximately).\n",
    "\n",
    "(2) Independently, $\\epsilon_i$ is generated from a mixture of a $N(-1/9,1)$ variable with probability $0.9$ and a $N(1,4)$ variable with probability $0.1$. When coding, you may first draw a sample $\\eta_i$ from a Bernoulli distribution with success probability $0.9$, and then you draw $\\epsilon_i$ from $N(-1/9,1)$ if $\\eta_i=1$ and otherwise draw $\\epsilon_i$ from $N(1,4)$. There may be a Python package for implementing this in a compact fashion, but, if not, I would just set $\\epsilon_i=\\eta_i W_{1i} + (1-\\eta_i)W_{2i}$ for $W_{1i}\\sim N(-1/9,1)$ and independently $W_{2i}\\sim N(1,4)$.\n",
    "\n",
    "(3) Generate $Y_i$ according to (1) for each pair $(\\varrho_0,\\lambda_0)$ to be specified.\n",
    "\n",
    "Given $\\{Y_i,Z_{1i},Z_{2i},Z_{3i}\\}_{i=1}^n$, we then consider the following regression:\n",
    "  \\begin{align}\n",
    "  Y_i=\\alpha_0+\\beta_1Z_{1i} + \\beta_2 Z_{2i} + \\beta_3 Z_{3i} + U_i~.\n",
    "  \\end{align}\n",
    "Note that if $\\varrho_0=0$, then $E[U_i|Z_{1i},Z_{2i},Z_{3i}]=0$ (the model is correctly specified), and if $\\varrho_0\\neq 0$, then $E[U_i|Z_{1i},Z_{2i},Z_{3i}]\\neq 0$ so the model is misspecified (but one still has $E[U_i(1,Z_{1i},Z_{2i},Z_{3i})]=0$). The model exhibits conditional heteroskedasticity if $\\lambda_0\\neq 0$. In what follows, set $\\lambda_0=1$ and $n=200$.\n",
    "\n",
    " You should manually generate the bootstrap samples and compute the bootstrap statistics, as described on p.51 of the lecture notes.\n",
    "\n",
    "(a) Let $\\varrho_0=0$. Compute the empirical rejection rates of the two-sided $t$-test for $\\mathrm H_0: \\beta_1=1$ at the significance level $\\alpha=5\\%$, based on the standard normal approximation, the pairs bootstrap and the wild bootstrap using Radamacher weights. Use $5000$ Monte Carlo replications and $200$ bootstrap repetitions. The closer the empirical rejection rates are to $\\alpha$ (the nominal rate), the better the test performs. See the pdf of the problem set for a sketch of the coding structure."
   ]
  },
  {
   "cell_type": "code",
   "execution_count": 24,
   "id": "9bcd4ee2-b89c-466e-b4ec-2151adb08ee7",
   "metadata": {},
   "outputs": [],
   "source": [
    "import numpy as np\n",
    "import matplotlib.pyplot as plt\n",
    "import pandas as pd\n",
    "import math as mt\n",
    "from scipy.stats import bernoulli\n",
    "import scipy.stats\n",
    "from scipy.stats import bootstrap\n",
    "import statsmodels.api as sm\n",
    "from sympy.stats import Rademacher, sample"
   ]
  },
  {
   "cell_type": "code",
   "execution_count": 28,
   "id": "ab4b3534-5d18-4546-89b5-7e2166e9c370",
   "metadata": {},
   "outputs": [],
   "source": [
    "# The desired mean values of the sample.\n",
    "n=200\n",
    "mu = np.array([0.0, 0.0, 0.0])\n",
    "    # The desired covariance matrix.\n",
    "c = np.array([\n",
    "        [  1, 0.2, 0.2],\n",
    "        [ 0.2,  1,  0.2],\n",
    "        [ 0.2,  0.2,  1]\n",
    "     ])"
   ]
  },
  {
   "cell_type": "code",
   "execution_count": 30,
   "id": "8353dc59-c43b-4c4c-bca3-b659e0d7f800",
   "metadata": {},
   "outputs": [],
   "source": [
    "def mysimul(r, b, n, rho, lam, B1):\n",
    "    RejN=np.zeros([r,1])\n",
    "    RejW=np.zeros([r,1])\n",
    "    RejP=np.zeros([r,1])\n",
    "    \n",
    "    for i in range(r):\n",
    "        # Generate the random samples.\n",
    "        rng = np.random.default_rng()\n",
    "        y = rng.multivariate_normal(mu, c, size=n)\n",
    "        vi=y[:,0]\n",
    "        z2i=y[:,1]\n",
    "        z3i=y[:,2]\n",
    "        a=np.exp(vi)\n",
    "        z1i=(a-mt.exp(0.5))/2.16\n",
    "        def rvs(p,size=1):\n",
    "            rvs = np.array([])\n",
    "            for i in range(0,size):\n",
    "                if np.random.rand() <= p:\n",
    "                    a=1\n",
    "                    rvs = np.append(rvs,a)\n",
    "                else:\n",
    "                    a=0\n",
    "                    rvs = np.append(rvs,a)\n",
    "                return rvs\n",
    "        ni = bernoulli.rvs(0.9,size=n) \n",
    "        w1i=np.random.normal(-1/9,1,n)\n",
    "        w2i=np.random.normal(1,4,n)\n",
    "        ei=(ni*w1i)+(1-ni)*w2i\n",
    "        yi=z1i+z2i+z3i+rho*z1i*z2i+(1+lam*z1i)*ei\n",
    "        X = pd.DataFrame({'z1': z1i, 'z2': z2i, 'z3': z3i })\n",
    "        X = sm.add_constant(X)\n",
    "        reg1 = sm.OLS(yi, X).fit()\n",
    "        B1_hat= reg1.params[1]\n",
    "        se= reg1.HC0_se[1]\n",
    "        t =np.absolute((B1_hat - B1) / se)\n",
    "    \n",
    "        BootP0 = []\n",
    "        for _ in range(b):\n",
    "            my_samples = pd.DataFrame({'yi':yi,'z1': z1i, 'z2': z2i, 'z3': z3i })\n",
    "            sample_new= my_samples.sample(n=200, frac=None, replace=True, weights=None, random_state=None, axis=None, ignore_index=False)\n",
    "            y_star = sample_new['yi']\n",
    "            X_star = sample_new[['z1', 'z2', 'z3']]\n",
    "            X_star = sm.add_constant(X_star)\n",
    "            reg_BP = sm.OLS(y_star, X_star).fit()\n",
    "            B1_hat_BP= reg_BP.params[1]\n",
    "            se_BP= reg_BP.HC0_se[1]\n",
    "            tn_BP= (B1_hat_BP - B1_hat)/se_BP\n",
    "            BootP0.append(tn_BP)\n",
    "        BootP= np.transpose(np.absolute(np.array(BootP0)))\n",
    "    \n",
    "        BootW0=[]\n",
    "        yw=yi-B1*z1i\n",
    "        xw=pd.DataFrame({'z2':z2i, 'z3':z3i})\n",
    "        xw=sm.add_constant(xw)\n",
    "        reg2=sm.OLS(yw,xw).fit()\n",
    "        Bt=np.array(reg2.params)\n",
    "        ut=yi-np.matmul(xw,Bt)\n",
    "        for _ in range(b):\n",
    "            rad= Rademacher('W')\n",
    "            wi = sample(rad, size= 200)\n",
    "            u_star=ut*wi\n",
    "            y2=np.matmul(xw,Bt)+z1i+u_star\n",
    "            reg3=sm.OLS(y2,X).fit()\n",
    "            B1_hat_BW=reg3.params[1]\n",
    "            se_BW=reg3.HC0_se[1]\n",
    "            tn_BW=(B1_hat_BW-B1)/se_BW\n",
    "            BootW0.append(tn_BW)\n",
    "        BootW= np.transpose(np.absolute(np.array(BootW0)))\n",
    "    \n",
    "        CriticalP= np.quantile(BootP,0.95)\n",
    "        CriticalW= np.quantile(BootW,0.95)\n",
    "    \n",
    "        RejN[i] = 1*(t > 1.96)\n",
    "        RejP[i] = 1*(t > CriticalP)\n",
    "        RejW[i] = 1*(t > CriticalW)\n",
    "   \n",
    "    RejN_mean= np.mean(RejN)\n",
    "    RejP_mean= np.mean(RejP)\n",
    "    RejW_mean= np.mean(RejW)\n",
    "    \n",
    "    print(\"The average rejection rate based on the standard normal approximation is\", RejN_mean)\n",
    "    print(\"The average rejection rate based on the Pair bootstrap is\", RejP_mean)\n",
    "    print(\"The average rejection rate based on the Wild bootstrap is\", RejW_mean)\n"
   ]
  },
  {
   "cell_type": "code",
   "execution_count": 31,
   "id": "73b514e0-d002-4f3b-b9f6-f292971a6b2a",
   "metadata": {},
   "outputs": [
    {
     "name": "stdout",
     "output_type": "stream",
     "text": [
      "The average rejection rate based on the standard normal approximation is 0.144\n",
      "The average rejection rate based on the Pair bootstrap is 0.065\n",
      "The average rejection rate based on the Wild bootstrap is 0.058\n"
     ]
    }
   ],
   "source": [
    "mysimul(r=1000, b=200, n=200, rho=0, lam=1, B1=1)"
   ]
  },
  {
   "cell_type": "markdown",
   "id": "a440b433-cd1a-4ab3-b13b-e06acaffb567",
   "metadata": {},
   "source": [
    "(b) Repeat part (a) by setting $\\varrho_0\\in\\{-0.5,0.5\\}$ (so the model is misspecified), but now consider the two-sided $t$ test for $\\mathrm H_0: \\beta_1=1+\\varrho_0 b$ for $b=0.41$ (note that $1+\\varrho_0 b$ is the slope parameter for $Z_{1i}$ in the best linear prediction of $Y_i$ given $1,Z_{1i},Z_{2i}$, and $Z_{3i}$)."
   ]
  },
  {
   "cell_type": "code",
   "execution_count": 32,
   "id": "10ae46ec-5764-495e-8e2b-98cccfa4272e",
   "metadata": {},
   "outputs": [
    {
     "name": "stdout",
     "output_type": "stream",
     "text": [
      "The average rejection rate based on the standard normal approximation is 0.177\n",
      "The average rejection rate based on the Pair bootstrap is 0.094\n",
      "The average rejection rate based on the Wild bootstrap is 0.053\n"
     ]
    }
   ],
   "source": [
    "mysimul(r=1000, b=200, n=200, rho=0.5, lam=1, B1=1.205)"
   ]
  },
  {
   "cell_type": "code",
   "execution_count": 33,
   "id": "54766e73-b212-4244-9b05-e4095062936a",
   "metadata": {},
   "outputs": [
    {
     "name": "stdout",
     "output_type": "stream",
     "text": [
      "The average rejection rate based on the standard normal approximation is 0.163\n",
      "The average rejection rate based on the Pair bootstrap is 0.068\n",
      "The average rejection rate based on the Wild bootstrap is 0.039\n"
     ]
    }
   ],
   "source": [
    "mysimul(r=1000, b=200, n=200, rho=-0.5, lam=1, B1=0.795)"
   ]
  },
  {
   "cell_type": "code",
   "execution_count": null,
   "id": "1ea65497-d03f-43cd-b508-b30261e5ec60",
   "metadata": {},
   "outputs": [],
   "source": []
  }
 ],
 "metadata": {
  "environment": {
   "kernel": "python3",
   "name": "common-cpu.m95",
   "type": "gcloud",
   "uri": "gcr.io/deeplearning-platform-release/base-cpu:m95"
  },
  "kernelspec": {
   "display_name": "Python 3",
   "language": "python",
   "name": "python3"
  },
  "language_info": {
   "codemirror_mode": {
    "name": "ipython",
    "version": 3
   },
   "file_extension": ".py",
   "mimetype": "text/x-python",
   "name": "python",
   "nbconvert_exporter": "python",
   "pygments_lexer": "ipython3",
   "version": "3.7.12"
  }
 },
 "nbformat": 4,
 "nbformat_minor": 5
}
